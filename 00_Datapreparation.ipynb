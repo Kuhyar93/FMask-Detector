{
 "cells": [
  {
   "cell_type": "code",
   "execution_count": 12,
   "id": "8ecbb6ee-d621-4b70-8d84-f3f6091f3d5c",
   "metadata": {},
   "outputs": [],
   "source": [
    "import os\n",
    "import numpy as np\n",
    "import pandas as pd\n",
    "import cv2\n",
    "import gc\n",
    "from tqdm import tqdm\n",
    "from glob import glob\n"
   ]
  },
  {
   "cell_type": "code",
   "execution_count": 13,
   "id": "b35407d9-4919-4c38-8bd6-4cc849dd226f",
   "metadata": {},
   "outputs": [
    {
     "name": "stdout",
     "output_type": "stream",
     "text": [
      "['Mask', 'Mask_Chin', 'Mask_Mouth_Chin', 'Mask_Nose_Mouth']\n"
     ]
    }
   ],
   "source": [
    "dirs = os.listdir('data')\n",
    "print(dirs)\n",
    "images_path = []\n",
    "labels = []\n",
    "for folder in dirs:\n",
    "    path = glob(f'./data/{folder}/*.jpg')\n",
    "    label =['{}'.format(folder)]*len(path)\n",
    "    # append\n",
    "    images_path.extend(path)\n",
    "    labels.extend(label)"
   ]
  },
  {
   "cell_type": "code",
   "execution_count": 14,
   "id": "ae1f6518-a601-4ccc-b96c-2469514afe99",
   "metadata": {},
   "outputs": [
    {
     "data": {
      "text/plain": [
       "10000"
      ]
     },
     "execution_count": 14,
     "metadata": {},
     "output_type": "execute_result"
    }
   ],
   "source": [
    "len(labels)"
   ]
  },
  {
   "cell_type": "code",
   "execution_count": 15,
   "id": "ff2ee902-2691-488e-a0a5-5d784a96173f",
   "metadata": {},
   "outputs": [],
   "source": [
    "face_detection_model = cv2.dnn.readNetFromCaffe('./models/deploy.prototxt.txt',\n",
    "                                                './models/res10_300x300_ssd_iter_140000_fp16.caffemodel')"
   ]
  },
  {
   "cell_type": "code",
   "execution_count": 6,
   "id": "adeb11b1-fa65-4145-a80a-39bbf1c258eb",
   "metadata": {},
   "outputs": [],
   "source": [
    "def face_detection_dnn(img):\n",
    "    # blob from image (rgb mean subraction image)\n",
    "    image = img.copy()\n",
    "    h,w = image.shape[:2]\n",
    "    blob = cv2.dnn.blobFromImage(image,1,(300,300),(104,117,123),swapRB=True)\n",
    "    # get the detections\n",
    "    face_detection_model.setInput(blob)\n",
    "    detections = face_detection_model.forward()\n",
    "    for i in range(0,detections.shape[2]):\n",
    "        confidence = detections[0,0,i,2] # confidence score\n",
    "        if confidence > 0.5:\n",
    "            box = detections[0,0,i,3:7]*np.array([w,h,w,h])\n",
    "            box = box.astype(int)\n",
    "            #print(box)\n",
    "            pt1 = (box[0],box[1])\n",
    "            pt2 = (box[2],box[3])\n",
    "            #cv2.rectangle(image,pt1,pt2,(0,255,0),2)\n",
    "            roi = image[box[1]:box[3],box[0]:box[2]]\n",
    "\n",
    "            return roi\n",
    "    return None"
   ]
  },
  {
   "cell_type": "code",
   "execution_count": 19,
   "id": "4c5b3b35-2104-4157-a952-714928c17f40",
   "metadata": {},
   "outputs": [],
   "source": [
    "img_path = images_path[0]\n",
    "img = cv2.imread(img_path)\n",
    "face = face_detection_dnn(img)\n",
    "\n",
    "\n",
    "cv2.imshow('face', face) # The face part of the image\n",
    "cv2.imshow('original',img) # The entire image itself\n",
    "cv2.waitKey()\n",
    "cv2.destroyAllWindows()"
   ]
  },
  {
   "cell_type": "code",
   "execution_count": 20,
   "id": "d4c030ce-b58d-45da-beab-2a103355f621",
   "metadata": {},
   "outputs": [],
   "source": [
    "def datapreprocess(img):\n",
    "    # blob from image (rgb mean subtraction image)\n",
    "    face = face_detection_dnn(img)\n",
    "    if face is not None:\n",
    "\n",
    "        # blob from image\n",
    "        blob = cv2.dnn.blobFromImage(face,1,(100,100),(104,117,123),swapRB=True)\n",
    "        blob_squeeze = np.squeeze(blob).T\n",
    "        blob_rotate = cv2.rotate(blob_squeeze,cv2.ROTATE_90_CLOCKWISE)\n",
    "        blob_flip = cv2.flip(blob_rotate,1)\n",
    "        # remove negative values and normalize\n",
    "        img_norm = np.maximum(blob_flip,0)/blob_flip.max()\n",
    "    \n",
    "        return img_norm\n",
    "    else:\n",
    "        return None\n",
    "\n"
   ]
  },
  {
   "cell_type": "code",
   "execution_count": null,
   "id": "525b2bc8-ab79-4014-bf76-4cff2b909926",
   "metadata": {},
   "outputs": [],
   "source": [
    "\n",
    "data_img = []\n",
    "label_img = []\n",
    "i = 0\n",
    "for path, label in tqdm(zip(images_path,labels),desc='preprocessing'):\n",
    "    img = cv2.imread(path)\n",
    "    process_img = datapreprocess(img)\n",
    "    if process_img is not None:\n",
    "        data_img.append(process_img)\n",
    "        label_img.append(label)\n",
    "          \n",
    "    i += 1\n",
    "    if i%100 == 0:\n",
    "        gc.collect()"
   ]
  },
  {
   "cell_type": "code",
   "execution_count": null,
   "id": "a6e228b1-e0d4-4ef0-b853-9faa06886844",
   "metadata": {},
   "outputs": [],
   "source": [
    "X = np.array(data_img)\n",
    "y = np.array(label_img)"
   ]
  },
  {
   "cell_type": "code",
   "execution_count": null,
   "id": "a5adb558-ef16-4496-8dd9-8d25bf2f24ea",
   "metadata": {},
   "outputs": [],
   "source": [
    "X.shape, y.shape"
   ]
  },
  {
   "cell_type": "code",
   "execution_count": null,
   "id": "4f7647ec-33cf-4358-aa63-ed84a2fb8259",
   "metadata": {},
   "outputs": [],
   "source": [
    "np.savez('./data/data_preprocess.npz',X,y)"
   ]
  },
  {
   "cell_type": "code",
   "execution_count": null,
   "id": "eca83207-e21d-4985-9f78-d210a324db76",
   "metadata": {},
   "outputs": [],
   "source": []
  }
 ],
 "metadata": {
  "kernelspec": {
   "display_name": "Python 3 (ipykernel)",
   "language": "python",
   "name": "python3"
  },
  "language_info": {
   "codemirror_mode": {
    "name": "ipython",
    "version": 3
   },
   "file_extension": ".py",
   "mimetype": "text/x-python",
   "name": "python",
   "nbconvert_exporter": "python",
   "pygments_lexer": "ipython3",
   "version": "3.12.2"
  }
 },
 "nbformat": 4,
 "nbformat_minor": 5
}
